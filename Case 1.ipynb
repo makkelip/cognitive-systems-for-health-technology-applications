{
 "cells": [
  {
   "cell_type": "markdown",
   "metadata": {},
   "source": [
    "# Case 1. Heart Disease Classification\n",
    "Markus Pikkanen<br>\n",
    "Last edited: 18.01.2018<br>\n",
    "Cognitive Systems for Health Technology Applications<br>\n",
    "[Helsinki Metropolia University of Applied Sciences](http://www.metropolia.fi/en/)<br>"
   ]
  },
  {
   "cell_type": "markdown",
   "metadata": {},
   "source": [
    "## 1. Objectives"
   ]
  },
  {
   "cell_type": "markdown",
   "metadata": {},
   "source": [
    "- learn to read data from external sources using pandas’ read_csv -function\n",
    "- use keras’ neural networks to make an expert system to support in diagnostic decision making\n",
    "- learn to test model architectures (number of layers, number of units, activation functions), solver optimizers and training settings (epochs, batch sizes, validation splits)\n",
    "- use matplotlib’s visualization tools to make graphical presentations of the training and validation results\n",
    "- learn to document the results clearly and in easily readable format"
   ]
  },
  {
   "cell_type": "markdown",
   "metadata": {},
   "source": [
    "## 2. Required libraries"
   ]
  },
  {
   "cell_type": "code",
   "execution_count": 32,
   "metadata": {},
   "outputs": [],
   "source": [
    "import time\n",
    "import numpy as np\n",
    "import pandas as pd\n",
    "import matplotlib.pyplot as plt\n",
    "from keras.utils import to_categorical\n",
    "from sklearn.model_selection import train_test_split\n",
    "from keras.models import Sequential\n",
    "from keras.layers import Dense"
   ]
  },
  {
   "cell_type": "markdown",
   "metadata": {},
   "source": [
    "## 3. Data description and preprocessing"
   ]
  },
  {
   "cell_type": "markdown",
   "metadata": {},
   "source": [
    "Description to data:\n",
    "https://archive.ics.uci.edu/ml/machine-learning-databases/heart-disease/heart-disease.names<br>\n",
    "Data contains 303 records of paitent data. More detailed description can be found from the link above. The num column indicates if the patient is diagnosed with heart disease (>=1) or is not (0). The sevierty of the disease is indicated by numbers ranging from one to four. For this study there is too little data to train the neural network for all the 5 different classifications. So the data is processed to contain only information if the patient is diagnosed (1) or not diagnosed (0) with heart disease. All the missing values are replaced with median of the corresponding attribute."
   ]
  },
  {
   "cell_type": "code",
   "execution_count": 33,
   "metadata": {},
   "outputs": [
    {
     "name": "stdout",
     "output_type": "stream",
     "text": [
      "<class 'pandas.core.frame.DataFrame'>\n",
      "RangeIndex: 303 entries, 0 to 302\n",
      "Data columns (total 13 columns):\n",
      "age         303 non-null float64\n",
      "sex         303 non-null float64\n",
      "cp          303 non-null float64\n",
      "trestbps    303 non-null float64\n",
      "chol        303 non-null float64\n",
      "fbs         303 non-null float64\n",
      "restecg     303 non-null float64\n",
      "thalach     303 non-null float64\n",
      "exang       303 non-null float64\n",
      "oldpeak     303 non-null float64\n",
      "slope       303 non-null float64\n",
      "ca          303 non-null float64\n",
      "thal        303 non-null float64\n",
      "dtypes: float64(13)\n",
      "memory usage: 30.9 KB\n"
     ]
    }
   ],
   "source": [
    "url = r'http://archive.ics.uci.edu/ml/machine-learning-databases/heart-disease/processed.cleveland.data'\n",
    "\n",
    "dataframe = pd.read_csv(url,\n",
    "                   header=None,\n",
    "                   index_col=None,\n",
    "                   na_values='?')\n",
    "\n",
    "dataframe.columns = ['age','sex','cp','trestbps','chol','fbs','restecg',\n",
    "                'thalach','exang','oldpeak','slope','ca','thal','num']\n",
    "\n",
    "# Fill missing data with columnwise median values\n",
    "dataframe = dataframe.fillna(dataframe.median())\n",
    "\n",
    "# Select the data (input) columns\n",
    "data_list = ['age', 'sex', 'cp','trestbps', 'chol', 'fbs','restecg',\n",
    "             'thalach','exang','oldpeak','slope','ca','thal']\n",
    "data = dataframe[data_list]\n",
    "\n",
    "# Scale the data\n",
    "data_min = data.min()\n",
    "data_max = data.max()\n",
    "data_norm = (data - data_min)/(data_max - data_min)\n",
    "\n",
    "# Select the labels (output)\n",
    "labels = dataframe['num']\n",
    "\n",
    "# Make binary labels (diseased or not diseased)\n",
    "bin_labels = 1.0*(labels > 0.0)\n",
    "\n",
    "data_norm.info()"
   ]
  },
  {
   "cell_type": "markdown",
   "metadata": {},
   "source": [
    "## 4. Modeling and compilation\n",
    "\n",
    "\n"
   ]
  },
  {
   "cell_type": "markdown",
   "metadata": {},
   "source": [
    "Model uses two hidden layers both with rectified linear unit activation function. First layer having 39 neurons and the other 19 layers. Adaptive learning rate method is used to optimize the model.<br>26% of the data is left for validation. Rest is used for training the model."
   ]
  },
  {
   "cell_type": "code",
   "execution_count": 212,
   "metadata": {},
   "outputs": [],
   "source": [
    "train_data,val_data,train_label,val_label = train_test_split(data_norm,\n",
    "                                                               bin_labels,\n",
    "                                                               test_size=0.26,\n",
    "                                                               random_state=42)\n",
    "\n",
    "\n",
    "\n",
    "model = Sequential()\n",
    "model.add(Dense(30,activation='relu', input_dim=13))\n",
    "model.add(Dense(15,activation='relu'))\n",
    "model.add(Dense(1, activation='sigmoid'))\n",
    "model.compile(optimizer='adadelta',\n",
    "             loss='binary_crossentropy',\n",
    "             metrics=['accuracy'])"
   ]
  },
  {
   "cell_type": "markdown",
   "metadata": {},
   "source": [
    "## 5. Training and Validation"
   ]
  },
  {
   "cell_type": "markdown",
   "metadata": {},
   "source": [
    "With adadelta optimizer the minimum loss value is found really fast so fewer epochs needed than for example with SGD optimizer."
   ]
  },
  {
   "cell_type": "code",
   "execution_count": 213,
   "metadata": {},
   "outputs": [
    {
     "name": "stdout",
     "output_type": "stream",
     "text": [
      "time:  2.3424203395843506\n"
     ]
    }
   ],
   "source": [
    "start = time.time()\n",
    "\n",
    "history = model.fit(train_data,\n",
    "                    train_label,\n",
    "                    epochs=30,\n",
    "                    batch_size=30,\n",
    "                    verbose=0,\n",
    "                    validation_data=(val_data,val_label))\n",
    "\n",
    "end = time.time()\n",
    "\n",
    "print('time: ', end - start)"
   ]
  },
  {
   "cell_type": "markdown",
   "metadata": {},
   "source": [
    "## 7. Results"
   ]
  },
  {
   "cell_type": "code",
   "execution_count": 214,
   "metadata": {},
   "outputs": [
    {
     "data": {
      "image/png": "[encoded data removed]",
      "text/plain": [
       "<Figure size 432x288 with 1 Axes>"
      ]
     },
     "metadata": {
      "needs_background": "light"
     },
     "output_type": "display_data"
    },
    {
     "name": "stdout",
     "output_type": "stream",
     "text": [
      "0.35745491181747824\n"
     ]
    }
   ],
   "source": [
    "h_dict = history.history\n",
    "epochs = range(1, len(h_dict['loss'])+1)\n",
    "\n",
    "plt.plot(epochs, h_dict['loss'], 'bo', label='Training loss')\n",
    "plt.plot(epochs, h_dict['val_loss'], 'b', label='Validation loss')\n",
    "plt.xlabel('Epochs')\n",
    "plt.ylabel('Loss')\n",
    "plt.legend()\n",
    "plt.show()\n",
    "print(h_dict['val_loss'][len(h_dict['val_loss'])-1])"
   ]
  },
  {
   "cell_type": "markdown",
   "metadata": {},
   "source": [
    "After around 25-30 epochs the model starts to overfit and the validation. Validation loss is around 0.37 at best."
   ]
  },
  {
   "cell_type": "code",
   "execution_count": 215,
   "metadata": {},
   "outputs": [
    {
     "data": {
      "image/png": "[encoded data removed]",
      "text/plain": [
       "<Figure size 432x288 with 1 Axes>"
      ]
     },
     "metadata": {
      "needs_background": "light"
     },
     "output_type": "display_data"
    },
    {
     "name": "stdout",
     "output_type": "stream",
     "text": [
      "0.8860759486125994\n"
     ]
    }
   ],
   "source": [
    "plt.plot(epochs, h_dict['acc'], 'bo', label='Training acc')\n",
    "plt.plot(epochs, h_dict['val_acc'], 'b', label='Validation acc')\n",
    "plt.xlabel('Epochs')\n",
    "plt.ylabel('Accuracy')\n",
    "plt.legend()\n",
    "plt.show()\n",
    "\n",
    "print(h_dict['val_acc'][len(h_dict['val_acc'])-1])"
   ]
  },
  {
   "cell_type": "markdown",
   "metadata": {},
   "source": [
    "Validation accuracy varies around 0.85-0.89"
   ]
  },
  {
   "cell_type": "markdown",
   "metadata": {},
   "source": [
    "## 8. Conclusions"
   ]
  },
  {
   "cell_type": "markdown",
   "metadata": {},
   "source": [
    "With this small set of data (303) we are able to attain a fairly high accuracy for our model (~0.87). This would not still be enough for real life use. Changing around the layer count, epochs and so on doesn't yeld any better results. Only step would be to increase the size of records to train the model."
   ]
  },
  {
   "cell_type": "code",
   "execution_count": null,
   "metadata": {},
   "outputs": [],
   "source": []
  }
 ],
 "metadata": {
  "kernelspec": {
   "display_name": "Python 3",
   "language": "python",
   "name": "python3"
  },
  "language_info": {
   "codemirror_mode": {
    "name": "ipython",
    "version": 3
   },
   "file_extension": ".py",
   "mimetype": "text/x-python",
   "name": "python",
   "nbconvert_exporter": "python",
   "pygments_lexer": "ipython3",
   "version": "3.6.7"
  }
 },
 "nbformat": 4,
 "nbformat_minor": 2
}
