{
 "cells": [
  {
   "cell_type": "code",
   "execution_count": 1,
   "metadata": {},
   "outputs": [],
   "source": [
    "import os, shutil"
   ]
  },
  {
   "cell_type": "markdown",
   "metadata": {},
   "source": [
    "## Data preprocessing"
   ]
  },
  {
   "cell_type": "code",
   "execution_count": 3,
   "metadata": {},
   "outputs": [],
   "source": [
    "# List all filenames in the master dataset and count how many samples there are\n",
    "originalDir = './retinopathy-dataset-master'\n",
    "\n",
    "class1 = 'nosymptoms'\n",
    "originalNoSymptomsDir = os.path.join(originalDir, class1)\n",
    "noSymptomsFnames = os.listdir(originalNoSymptomsDir)\n",
    "\n",
    "class2 = 'symptoms'\n",
    "originalSymptomsDir = os.path.join(originalDir, class2)\n",
    "symptomsFnames = os.listdir(originalSymptomsDir)\n"
   ]
  },
  {
   "cell_type": "code",
   "execution_count": 4,
   "metadata": {},
   "outputs": [],
   "source": [
    "baseDir = './dataset'\n",
    "\n",
    "#Training\n",
    "subDir = 'train'\n",
    "trainDir = os.path.join(baseDir, subDir)\n",
    "trainNoSymptomsDir = os.path.join(baseDir, subDir, class1)\n",
    "trainSymptomsDir = os.path.join(baseDir, subDir, class2)\n",
    "\n",
    "#Validation\n",
    "subDir = 'validation'\n",
    "valDir = os.path.join(baseDir, subDir)\n",
    "valNoSymptomsDir = os.path.join(baseDir, subDir, class1)\n",
    "valSymptomsDir = os.path.join(baseDir, subDir, class2)\n",
    "\n",
    "#Test\n",
    "subDir = 'test'\n",
    "testDir = os.path.join(baseDir, subDir)\n",
    "testNoSymptomsDir = os.path.join(baseDir, subDir, class1)\n",
    "testSymptomsDir = os.path.join(baseDir, subDir, class2)\n"
   ]
  },
  {
   "cell_type": "code",
   "execution_count": 5,
   "metadata": {},
   "outputs": [],
   "source": [
    "#Create folders\n",
    "try:\n",
    "    os.mkdir(baseDir)\n",
    "    os.mkdir(trainDir)\n",
    "    os.mkdir(trainNoSymptomsDir)\n",
    "    os.mkdir(trainSymptomsDir)\n",
    "    os.mkdir(valDir)\n",
    "    os.mkdir(valNoSymptomsDir)\n",
    "    os.mkdir(valSymptomsDir)\n",
    "    os.mkdir(testDir)\n",
    "    os.mkdir(testNoSymptomsDir)\n",
    "    os.mkdir(testSymptomsDir)\n",
    "except:\n",
    "    print('Error in creating folders. This step might be done already')"
   ]
  },
  {
   "cell_type": "code",
   "execution_count": 6,
   "metadata": {},
   "outputs": [
    {
     "data": {
      "text/plain": [
       "(428, 107, 60)"
      ]
     },
     "execution_count": 6,
     "metadata": {},
     "output_type": "execute_result"
    }
   ],
   "source": [
    "from sklearn.model_selection import train_test_split\n",
    "from numpy import random\n",
    "\n",
    "trainSymptomsFnames, testSymptomsFnames = train_test_split(symptomsFnames, test_size=0.10)\n",
    "\n",
    "trainSymptomsFnames, valSymptomsFnames = train_test_split(trainSymptomsFnames, test_size=0.20)\n",
    "\n",
    "len(trainSymptomsFnames), len(valSymptomsFnames), len(testSymptomsFnames)"
   ]
  },
  {
   "cell_type": "code",
   "execution_count": 7,
   "metadata": {},
   "outputs": [
    {
     "data": {
      "text/plain": [
       "(1056, 265, 147)"
      ]
     },
     "execution_count": 7,
     "metadata": {},
     "output_type": "execute_result"
    }
   ],
   "source": [
    "trainNoSymptomsFnames, testNoSymptomsFnames = train_test_split(noSymptomsFnames, test_size=0.10)\n",
    "\n",
    "trainNoSymptomsFnames, valNoSymptomsFnames = train_test_split(trainNoSymptomsFnames, test_size=0.20)\n",
    "\n",
    "len(trainNoSymptomsFnames), len(valNoSymptomsFnames), len(testNoSymptomsFnames)"
   ]
  },
  {
   "cell_type": "code",
   "execution_count": 8,
   "metadata": {},
   "outputs": [
    {
     "name": "stdout",
     "output_type": "stream",
     "text": [
      "Time 14.90\n"
     ]
    }
   ],
   "source": [
    "import time\n",
    "\n",
    "start = time.time()\n",
    "\n",
    "#Training\n",
    "#Disease\n",
    "for fname in trainSymptomsFnames:\n",
    "    src = os.path.join(originalSymptomsDir, fname)\n",
    "    dst = os.path.join(trainSymptomsDir, fname)\n",
    "    shutil.copyfile(src, dst)\n",
    "#Healthy\n",
    "for fname in trainNoSymptomsFnames:\n",
    "    src = os.path.join(originalNoSymptomsDir, fname)\n",
    "    dst = os.path.join(trainNoSymptomsDir, fname)\n",
    "    shutil.copyfile(src, dst)\n",
    "\n",
    "#Validation\n",
    "#Disease\n",
    "for fname in valSymptomsFnames:\n",
    "    src = os.path.join(originalSymptomsDir, fname)\n",
    "    dst = os.path.join(valSymptomsDir, fname)\n",
    "    shutil.copyfile(src, dst)\n",
    "#Healthy\n",
    "for fname in valNoSymptomsFnames:\n",
    "    src = os.path.join(originalNoSymptomsDir, fname)\n",
    "    dst = os.path.join(valNoSymptomsDir, fname)\n",
    "    shutil.copyfile(src, dst)\n",
    "\n",
    "#Test\n",
    "#Disease\n",
    "for fname in testSymptomsFnames:\n",
    "    src = os.path.join(originalSymptomsDir, fname)\n",
    "    dst = os.path.join(testSymptomsDir, fname)\n",
    "    shutil.copyfile(src, dst)\n",
    "#Healthy\n",
    "for fname in testNoSymptomsFnames:\n",
    "    src = os.path.join(originalNoSymptomsDir, fname)\n",
    "    dst = os.path.join(testNoSymptomsDir, fname)\n",
    "    shutil.copyfile(src, dst)\n",
    "\n",
    "end = time.time()\n",
    "print('Time {:.2f}'.format(end-start))"
   ]
  },
  {
   "cell_type": "code",
   "execution_count": null,
   "metadata": {},
   "outputs": [],
   "source": []
  }
 ],
 "metadata": {
  "kernelspec": {
   "display_name": "Python 3",
   "language": "python",
   "name": "python3"
  },
  "language_info": {
   "codemirror_mode": {
    "name": "ipython",
    "version": 3
   },
   "file_extension": ".py",
   "mimetype": "text/x-python",
   "name": "python",
   "nbconvert_exporter": "python",
   "pygments_lexer": "ipython3",
   "version": "3.6.8"
  }
 },
 "nbformat": 4,
 "nbformat_minor": 2
}
