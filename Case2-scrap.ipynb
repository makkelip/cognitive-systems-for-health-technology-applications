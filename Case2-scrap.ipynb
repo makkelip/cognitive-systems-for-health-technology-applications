{
 "cells": [
  {
   "cell_type": "code",
   "execution_count": 2,
   "metadata": {},
   "outputs": [
    {
     "name": "stderr",
     "output_type": "stream",
     "text": [
      "Using TensorFlow backend.\n"
     ]
    },
    {
     "data": {
      "text/plain": [
       "'2.2.4'"
      ]
     },
     "execution_count": 2,
     "metadata": {},
     "output_type": "execute_result"
    }
   ],
   "source": [
    "import os\n",
    "import keras\n",
    "import numpy as np\n",
    "import matplotlib.pyplot as plt\n",
    "from keras.applications.inception_v3 import InceptionV3\n",
    "keras.__version__"
   ]
  },
  {
   "cell_type": "markdown",
   "metadata": {},
   "source": [
    "## Preprocessing"
   ]
  },
  {
   "cell_type": "code",
   "execution_count": 16,
   "metadata": {},
   "outputs": [],
   "source": [
    "class1 = 'nosymptoms'\n",
    "class2 = 'symptoms'\n",
    "baseDir = './dataset'\n",
    "\n",
    "#Training\n",
    "subDir = 'train'\n",
    "trainDir = os.path.join(baseDir, subDir)\n",
    "trainNoSymptomsDir = os.path.join(baseDir, subDir, class1)\n",
    "trainSymptomsDir = os.path.join(baseDir, subDir, class2)\n",
    "\n",
    "#Validation\n",
    "subDir = 'validation'\n",
    "valDir = os.path.join(baseDir, subDir)\n",
    "valNoSymptomsDir = os.path.join(baseDir, subDir, class1)\n",
    "valSymptomsDir = os.path.join(baseDir, subDir, class2)\n",
    "\n",
    "#Test\n",
    "subDir = 'test'\n",
    "testDir = os.path.join(baseDir, subDir)\n",
    "testNoSymptomsDir = os.path.join(baseDir, subDir, class1)\n",
    "testSymptomsDir = os.path.join(baseDir, subDir, class2)\n"
   ]
  },
  {
   "cell_type": "code",
   "execution_count": 17,
   "metadata": {},
   "outputs": [
    {
     "name": "stdout",
     "output_type": "stream",
     "text": [
      "Found 1484 images belonging to 2 classes.\n",
      "Found 372 images belonging to 2 classes.\n",
      "Found 207 images belonging to 2 classes.\n"
     ]
    }
   ],
   "source": [
    "from keras.preprocessing.image import ImageDataGenerator\n",
    "import random\n",
    "\n",
    "imageSize = 128\n",
    "batchSize = 15\n",
    "seed = random.randint(0,200)\n",
    "\n",
    "trainDatagen = ImageDataGenerator(rescale=1./255)\n",
    "valDatagen = ImageDataGenerator(rescale=1./255)\n",
    "testDatagen = ImageDataGenerator(rescale=1./255)\n",
    "\n",
    "\n",
    "trainGenerator = trainDatagen.flow_from_directory(\n",
    "    trainDir,\n",
    "    target_size=(imageSize,imageSize),\n",
    "    batch_size=batchSize,\n",
    "    class_mode='binary',\n",
    "    seed=seed\n",
    ")\n",
    "\n",
    "valGenerator = valDatagen.flow_from_directory(\n",
    "    valDir,\n",
    "    target_size=(imageSize,imageSize),\n",
    "    batch_size=batchSize,\n",
    "    class_mode='binary',\n",
    "    seed=seed,\n",
    "    #save_to_dir='./altered', save_prefix='image'\n",
    ")\n",
    "\n",
    "testGenerator = testDatagen.flow_from_directory(\n",
    "    testDir,\n",
    "    target_size=(imageSize,imageSize),\n",
    "    batch_size=batchSize,\n",
    "    class_mode='binary',\n",
    "    seed=seed\n",
    ")"
   ]
  },
  {
   "cell_type": "code",
   "execution_count": 18,
   "metadata": {},
   "outputs": [
    {
     "name": "stdout",
     "output_type": "stream",
     "text": [
      "data batch shape: (15, 128, 128, 3)\n",
      "labels batch shape: (15,)\n",
      "data batch shape: (15, 128, 128, 3)\n",
      "labels batch shape: (15,)\n",
      "data batch shape: (15, 128, 128, 3)\n",
      "labels batch shape: (15,)\n",
      "data batch shape: (15, 128, 128, 3)\n",
      "labels batch shape: (15,)\n",
      "data batch shape: (15, 128, 128, 3)\n",
      "labels batch shape: (15,)\n",
      "data batch shape: (15, 128, 128, 3)\n",
      "labels batch shape: (15,)\n"
     ]
    }
   ],
   "source": [
    "i = 0\n",
    "for dataBatch, labelsBatch in trainGenerator:\n",
    "    print('data batch shape:', dataBatch.shape)\n",
    "    print('labels batch shape:', labelsBatch.shape)\n",
    "    i = i + 1\n",
    "    if i > 5:\n",
    "        break"
   ]
  },
  {
   "cell_type": "code",
   "execution_count": 19,
   "metadata": {},
   "outputs": [
    {
     "data": {
      "text/plain": [
       "array([0., 1., 0., 0., 0., 1., 0., 0., 0., 1., 0., 0., 0., 1., 0.],\n",
       "      dtype=float32)"
      ]
     },
     "execution_count": 19,
     "metadata": {},
     "output_type": "execute_result"
    }
   ],
   "source": [
    "labelsBatch"
   ]
  },
  {
   "cell_type": "code",
   "execution_count": 20,
   "metadata": {},
   "outputs": [
    {
     "name": "stdout",
     "output_type": "stream",
     "text": [
      "_________________________________________________________________\n",
      "Layer (type)                 Output Shape              Param #   \n",
      "=================================================================\n",
      "conv2d_4 (Conv2D)            (None, 126, 126, 64)      1792      \n",
      "_________________________________________________________________\n",
      "max_pooling2d_3 (MaxPooling2 (None, 63, 63, 64)        0         \n",
      "_________________________________________________________________\n",
      "conv2d_5 (Conv2D)            (None, 61, 61, 64)        36928     \n",
      "_________________________________________________________________\n",
      "max_pooling2d_4 (MaxPooling2 (None, 30, 30, 64)        0         \n",
      "_________________________________________________________________\n",
      "conv2d_6 (Conv2D)            (None, 28, 28, 32)        18464     \n",
      "_________________________________________________________________\n",
      "flatten_2 (Flatten)          (None, 25088)             0         \n",
      "_________________________________________________________________\n",
      "dense_5 (Dense)              (None, 16)                401424    \n",
      "_________________________________________________________________\n",
      "dense_6 (Dense)              (None, 32)                544       \n",
      "_________________________________________________________________\n",
      "dense_7 (Dense)              (None, 32)                1056      \n",
      "_________________________________________________________________\n",
      "dense_8 (Dense)              (None, 1)                 33        \n",
      "=================================================================\n",
      "Total params: 460,241\n",
      "Trainable params: 460,241\n",
      "Non-trainable params: 0\n",
      "_________________________________________________________________\n"
     ]
    }
   ],
   "source": [
    "from keras import layers\n",
    "from keras import models\n",
    "\n",
    "model = models.Sequential()\n",
    "model.add(layers.Conv2D(64, (3, 3), activation='relu', input_shape=(imageSize,imageSize,3)))\n",
    "model.add(layers.MaxPooling2D((2, 2)))\n",
    "model.add(layers.Conv2D(64, (3, 3), activation='relu'))\n",
    "model.add(layers.MaxPooling2D((2, 2)))\n",
    "model.add(layers.Conv2D(32, (3, 3), activation='relu'))\n",
    "#Flatten to decition making\n",
    "model.add(layers.Flatten())\n",
    "model.add(layers.Dense(16, activation='relu'))\n",
    "model.add(layers.Dense(32, activation='relu'))\n",
    "model.add(layers.Dense(32, activation='relu'))\n",
    "model.add(layers.Dense(1, activation='sigmoid'))\n",
    "\n",
    "model.summary()"
   ]
  },
  {
   "cell_type": "code",
   "execution_count": 21,
   "metadata": {},
   "outputs": [],
   "source": [
    "from keras import optimizers\n",
    "\n",
    "model.compile(loss='binary_crossentropy',\n",
    "             optimizer='rmsprop',\n",
    "             metrics=['acc'])"
   ]
  },
  {
   "cell_type": "code",
   "execution_count": 22,
   "metadata": {},
   "outputs": [
    {
     "name": "stdout",
     "output_type": "stream",
     "text": [
      "Epoch 1/10\n",
      "2/2 [==============================] - 30s 15s/step - loss: 0.6997 - acc: 0.5667 - val_loss: 1.0585 - val_acc: 0.2800\n",
      "Epoch 2/10\n",
      "2/2 [==============================] - 28s 14s/step - loss: 0.9285 - acc: 0.2333 - val_loss: 0.6809 - val_acc: 0.7027\n",
      "Epoch 3/10\n",
      "2/2 [==============================] - 29s 14s/step - loss: 0.6780 - acc: 0.6667 - val_loss: 0.6101 - val_acc: 0.7422\n",
      "Epoch 4/10\n",
      "2/2 [==============================] - 27s 13s/step - loss: 0.5902 - acc: 0.7000 - val_loss: 0.7174 - val_acc: 0.6667\n",
      "Epoch 5/10\n",
      "2/2 [==============================] - 29s 14s/step - loss: 0.6225 - acc: 0.7000 - val_loss: 0.5408 - val_acc: 0.7297\n",
      "Epoch 6/10\n",
      "2/2 [==============================] - 28s 14s/step - loss: 0.7155 - acc: 0.5667 - val_loss: 0.6273 - val_acc: 0.7333\n",
      "Epoch 7/10\n",
      "2/2 [==============================] - 28s 14s/step - loss: 0.5960 - acc: 0.7667 - val_loss: 0.5742 - val_acc: 0.6937\n",
      "Epoch 8/10\n",
      "2/2 [==============================] - 28s 14s/step - loss: 0.6226 - acc: 0.6667 - val_loss: 0.5889 - val_acc: 0.6844\n",
      "Epoch 9/10\n",
      "2/2 [==============================] - 29s 14s/step - loss: 0.6107 - acc: 0.6667 - val_loss: 0.5157 - val_acc: 0.7523\n",
      "Epoch 10/10\n",
      "2/2 [==============================] - 27s 14s/step - loss: 0.4895 - acc: 0.8000 - val_loss: 0.5848 - val_acc: 0.6982\n"
     ]
    }
   ],
   "source": [
    "results = model.fit_generator(\n",
    "    trainGenerator,\n",
    "    steps_per_epoch=2,\n",
    "    verbose=1,\n",
    "    epochs=10,\n",
    "    validation_data= valGenerator,\n",
    "    validation_steps=15)\n",
    "\n",
    "#save model\n",
    "model.save('case2run1.h5')"
   ]
  },
  {
   "cell_type": "markdown",
   "metadata": {},
   "source": [
    "## Results"
   ]
  },
  {
   "cell_type": "code",
   "execution_count": 23,
   "metadata": {},
   "outputs": [
    {
     "data": {
      "image/png": "[encoded data removed]",
      "text/plain": [
       "<Figure size 432x288 with 1 Axes>"
      ]
     },
     "metadata": {
      "needs_background": "light"
     },
     "output_type": "display_data"
    },
    {
     "data": {
      "image/png": "[encoded data removed]",
      "text/plain": [
       "<Figure size 432x288 with 1 Axes>"
      ]
     },
     "metadata": {
      "needs_background": "light"
     },
     "output_type": "display_data"
    }
   ],
   "source": [
    "acc = results.history['acc']\n",
    "val_acc = results.history['val_acc']\n",
    "loss = results.history['loss']\n",
    "val_loss = results.history['val_loss']\n",
    "\n",
    "epochs = range(len(acc))\n",
    "\n",
    "plt.plot(epochs, acc, 'r', label='Training acc')\n",
    "plt.plot(epochs, val_acc, 'b', label='Validation acc')\n",
    "plt.title('Training and validation accuracy')\n",
    "plt.legend()\n",
    "\n",
    "plt.figure()\n",
    "\n",
    "plt.plot(epochs, loss, 'r', label='Training loss')\n",
    "plt.plot(epochs, val_loss, 'b', label='Validation loss')\n",
    "plt.title('Training and validation loss')\n",
    "plt.legend()\n",
    "\n",
    "plt.show()"
   ]
  },
  {
   "cell_type": "code",
   "execution_count": 24,
   "metadata": {},
   "outputs": [
    {
     "name": "stdout",
     "output_type": "stream",
     "text": [
      "14/13 [==============================] - 26s 2s/step\n"
     ]
    },
    {
     "data": {
      "text/plain": [
       "(0.5778898255548616, 0.7101449426533519)"
      ]
     },
     "execution_count": 24,
     "metadata": {},
     "output_type": "execute_result"
    }
   ],
   "source": [
    "testLoss, testAcc = model.evaluate_generator(testGenerator, steps=testGenerator.n/batchSize, verbose=1)\n",
    "testLoss, testAcc"
   ]
  },
  {
   "cell_type": "code",
   "execution_count": 25,
   "metadata": {},
   "outputs": [
    {
     "name": "stdout",
     "output_type": "stream",
     "text": [
      "14/13 [==============================] - 26s 2s/step\n"
     ]
    }
   ],
   "source": [
    "testGenerator.reset()\n",
    "predProb = model.predict_generator(testGenerator,\n",
    "                                   steps=testGenerator.n/batchSize,\n",
    "                                   verbose=1)"
   ]
  },
  {
   "cell_type": "code",
   "execution_count": 26,
   "metadata": {},
   "outputs": [
    {
     "name": "stdout",
     "output_type": "stream",
     "text": [
      "Sensitivity:  nan\n",
      "Specificity:  1.0\n"
     ]
    },
    {
     "name": "stderr",
     "output_type": "stream",
     "text": [
      "C:\\Users\\Markus\\Anaconda3\\envs\\py36g\\lib\\site-packages\\ipykernel_launcher.py:17: RuntimeWarning: invalid value encountered in longlong_scalars\n"
     ]
    }
   ],
   "source": [
    "from sklearn.metrics import confusion_matrix\n",
    "import pandas as pd\n",
    "import seaborn as sb\n",
    "\n",
    "predictions = np.argmax(predProb, axis=1)\n",
    "cm = confusion_matrix(testGenerator.classes, predictions)\n",
    "\n",
    "dfCm = pd.DataFrame(cm.T,\n",
    "                    index=['Negatives','Positives'],\n",
    "                    columns=['True', 'False'])\n",
    "\n",
    "TP = dfCm.loc['Positives']['True']\n",
    "TN = dfCm.loc['Negatives']['True']\n",
    "FP = dfCm.loc['Positives']['False']\n",
    "FN = dfCm.loc['Negatives']['False']\n",
    "\n",
    "print('Sensitivity: ', TP/TP+FN)\n",
    "print('Specificity: ', TN/TN+FP)"
   ]
  },
  {
   "cell_type": "code",
   "execution_count": 27,
   "metadata": {},
   "outputs": [
    {
     "name": "stdout",
     "output_type": "stream",
     "text": [
      "Confusion matrix:\n",
      "            True  False\n",
      "Negatives   147     60\n",
      "Positives     0      0\n"
     ]
    }
   ],
   "source": [
    "print('Confusion matrix:\\n', dfCm)"
   ]
  },
  {
   "cell_type": "code",
   "execution_count": 28,
   "metadata": {},
   "outputs": [
    {
     "name": "stdout",
     "output_type": "stream",
     "text": [
      "Normalized confusion matrix:\n",
      "                True     False\n",
      "Negatives  0.710145  0.289855\n",
      "Positives  0.000000  0.000000\n"
     ]
    }
   ],
   "source": [
    "print('Normalized confusion matrix:\\n',dfCm/len(predictions))"
   ]
  },
  {
   "cell_type": "code",
   "execution_count": null,
   "metadata": {},
   "outputs": [],
   "source": []
  }
 ],
 "metadata": {
  "kernelspec": {
   "display_name": "Python 3",
   "language": "python",
   "name": "python3"
  },
  "language_info": {
   "codemirror_mode": {
    "name": "ipython",
    "version": 3
   },
   "file_extension": ".py",
   "mimetype": "text/x-python",
   "name": "python",
   "nbconvert_exporter": "python",
   "pygments_lexer": "ipython3",
   "version": "3.6.8"
  }
 },
 "nbformat": 4,
 "nbformat_minor": 2
}
